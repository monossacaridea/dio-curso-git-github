{
  "nbformat": 4,
  "nbformat_minor": 0,
  "metadata": {
    "colab": {
      "provenance": [],
      "authorship_tag": "ABX9TyM7p1ex4SFBWd6ZRlEzRrcR",
      "include_colab_link": true
    },
    "kernelspec": {
      "name": "python3",
      "display_name": "Python 3"
    },
    "language_info": {
      "name": "python"
    }
  },
  "cells": [
    {
      "cell_type": "markdown",
      "metadata": {
        "id": "view-in-github",
        "colab_type": "text"
      },
      "source": [
        "<a href=\"https://colab.research.google.com/github/monossacaridea/dio-curso-git-github/blob/main/Exerc%C3%ADcios_Lista_1_py.ipynb\" target=\"_parent\"><img src=\"https://colab.research.google.com/assets/colab-badge.svg\" alt=\"Open In Colab\"/></a>"
      ]
    },
    {
      "cell_type": "code",
      "execution_count": null,
      "metadata": {
        "id": "jjBeUxHVhOg3"
      },
      "outputs": [],
      "source": [
        "# Exercício 1 - Peça ao usuário que insira um número. Se o número for par, exiba \"Número par\". Se for ímpar, exiba \"Número ímpar\".\n",
        "\n",
        "numero = int(input(\"Digite um número: \"))\n",
        "\n",
        "if numero % 2 == 0:\n",
        "    print(\"Número par\")\n",
        "else:\n",
        "    print(\"Número ímpar\")"
      ]
    },
    {
      "cell_type": "code",
      "source": [
        "# Exercício 2 - Dada a tupla turma = ('André', 'Fernanda', 'Luiz'), peça ao usuário para digitar o nome de um aluno. Cheque se o aluno está na tupla e exiba uma mensagem adequada.\n",
        "\n",
        "turma = ('André', 'Fernanda', 'Luiz')\n",
        "\n",
        "nome = input(\"Digite o nome de um aluno: \")\n",
        "\n",
        "if nome in turma:\n",
        "    print(\"O aluno está na turma\")\n",
        "else:\n",
        "    print(\"O aluno não está na turma\")"
      ],
      "metadata": {
        "id": "BfjxihU1jcUV"
      },
      "execution_count": null,
      "outputs": []
    },
    {
      "cell_type": "code",
      "source": [
        "##Exercício 3: Escreva um programa que imprima os primeiros 10 números da sequência de Fibonacci.\n",
        "\n",
        "a = 0\n",
        "b = 1\n",
        "print(a)\n",
        "print(b)\n",
        "\n",
        "for i in range(8):\n",
        "    c = a + b\n",
        "    print(c)\n",
        "    a = b\n",
        "    b = c\n",
        "\n",
        "\n"
      ],
      "metadata": {
        "id": "iFzgkfwvmbL7"
      },
      "execution_count": null,
      "outputs": []
    },
    {
      "cell_type": "code",
      "source": [
        "# Exercício 4: Dada uma lista de notas de alunos notas = [6.3, 7.5, 9.2, 5.1, 6.8], calcule e exiba a média das notas. Além disso, exiba a quantidade de notas acima da média (6).\n",
        "\n",
        "notas = [6.3, 7.5, 9.2, 5.1, 6.8]\n",
        "media = sum(notas) / len(notas)\n",
        "notas_acima_da_media = sum(1 for nota in notas if nota > media)\n",
        "\n",
        "print(f\"A média das notas é: {media:.2f}\")\n",
        "print(f\"A quantidade de notas acima da média é: {notas_acima_da_media}\")\n"
      ],
      "metadata": {
        "id": "Qri6c5PXmzdj"
      },
      "execution_count": null,
      "outputs": []
    },
    {
      "cell_type": "code",
      "source": [
        "# Exercício 5: Escreva um programa que jogue \"pedra, papel ou tesoura\" contra o usuário. O jogo deve continuar até o usuário escolher parar, e retornar o número de vitórias do usuário, da máquina, e empates.\n",
        "\n",
        "import random\n",
        "\n",
        "def escolha_maquina():\n",
        "    return random.choice(['pedra', 'papel', 'tesoura'])\n",
        "\n",
        "def determinar_vencedor(escolha_usuario, escolha_maquina):\n",
        "    if escolha_usuario == escolha_maquina:\n",
        "        return 'empate'\n",
        "    elif (escolha_usuario == 'pedra' and escolha_maquina == 'tesoura') or \\\n",
        "         (escolha_usuario == 'papel' and escolha_maquina == 'pedra') or \\\n",
        "         (escolha_usuario == 'tesoura' and escolha_maquina == 'papel'):\n",
        "        return 'usuario'\n",
        "    else:\n",
        "        return 'maquina'\n",
        "\n",
        "def main():\n",
        "    vitoria_usuario = 0\n",
        "    vitoria_maquina = 0\n",
        "    empates = 0\n",
        "\n",
        "    while True:\n",
        "        escolha_usuario = input(\"Escolha pedra, papel ou tesoura (ou 'parar' para encerrar): \").strip().lower()\n",
        "\n",
        "        if escolha_usuario == 'parar':\n",
        "            break\n",
        "\n",
        "        if escolha_usuario not in ['pedra', 'papel', 'tesoura']:\n",
        "            print(\"Escolha inválida. Tente novamente.\")\n",
        "            continue\n",
        "\n",
        "        escolha_maq = escolha_maquina() # Changed variable name to avoid conflict with function name\n",
        "        resultado = determinar_vencedor(escolha_usuario, escolha_maq)\n",
        "\n",
        "        print(f\"Você escolheu: {escolha_usuario}\")\n",
        "        print(f\"A máquina escolheu: {escolha_maq}\")\n",
        "\n",
        "        if resultado == 'empate':\n",
        "            print(\"Empate!\")\n",
        "            empates += 1\n",
        "        elif resultado == 'usuario':\n",
        "            print(\"Você ganhou!\")\n",
        "            vitoria_usuario += 1\n",
        "        else:\n",
        "            print(\"A máquina ganhou!\")\n",
        "            vitoria_maquina += 1\n",
        "\n",
        "    print(\"\\nResultados finais:\")\n",
        "    print(f\"Vitórias do usuário: {vitoria_usuario}\")\n",
        "    print(f\"Vitórias da máquina: {vitoria_maquina}\")\n",
        "    print(f\"Empates: {empates}\")\n",
        "\n",
        "if __name__ == \"__main__\":\n",
        "    main()"
      ],
      "metadata": {
        "id": "aqAzj0heuK6p"
      },
      "execution_count": null,
      "outputs": []
    },
    {
      "cell_type": "code",
      "source": [
        "#Exercício 6: Crie um programa que gerencie o banco de dados de uma biblioteca. O programa deve permitir adicionar um novo livro (como uma lista contendo título, autor e ano), listar todos os livros, e permitir a busca de livros pelo título.\n",
        "\n",
        "biblioteca = []\n",
        "\n",
        "def adicionar_livro(titulo, autor, ano):\n",
        "    livro = {'titulo': titulo, 'autor': autor, 'ano': ano}\n",
        "    biblioteca.append(livro)\n",
        "    print(f\"O livro '{titulo}' foi adicionado com sucesso!\")\n",
        "\n",
        "def listar_livros():\n",
        "    if len(biblioteca) == 0:\n",
        "        print(\"A biblioteca está vazia.\")\n",
        "    else:\n",
        "        print(\"\\nLista de livros:\")\n",
        "        for idx, livro in enumerate(biblioteca, start=1):\n",
        "            print(f\"{idx}. Título: {livro['titulo']}, Autor: {livro['autor']}, Ano: {livro['ano']}\")\n",
        "    print()\n",
        "\n",
        "def buscar_livro(titulo_busca):\n",
        "    resultados = [livro for livro in biblioteca if titulo_busca.lower() in livro['titulo'].lower()]\n",
        "\n",
        "    if resultados:\n",
        "        print(\"\\nResultados da busca:\")\n",
        "        for livro in resultados:\n",
        "            print(f\"Título: {livro['titulo']}, Autor: {livro['autor']}, Ano: {livro['ano']}\")\n",
        "    else:\n",
        "        print(f\"Nenhum livro encontrado com o título '{titulo_busca}'.\")\n",
        "    print()\n",
        "\n",
        "def menu():\n",
        "    while True:\n",
        "        print(\"1. Adicionar um novo livro\")\n",
        "        print(\"2. Listar todos os livros\")\n",
        "        print(\"3. Buscar livro pelo título\")\n",
        "        print(\"4. Sair\")\n",
        "\n",
        "        escolha = input(\"Escolha uma opção: \")\n",
        "\n",
        "        if escolha == '1':\n",
        "            titulo = input(\"Digite o título do livro: \")\n",
        "            autor = input(\"Digite o autor do livro: \")\n",
        "            ano = input(\"Digite o ano do livro: \")\n",
        "            adicionar_livro(titulo, autor, ano)\n",
        "        elif escolha == '2':\n",
        "            listar_livros()\n",
        "        elif escolha == '3':\n",
        "            titulo_busca = input(\"Digite o título do livro que deseja buscar: \")\n",
        "            buscar_livro(titulo_busca)\n",
        "        elif escolha == '4':\n",
        "            print(\"Saindo do programa...\")\n",
        "            break\n",
        "        else:\n",
        "            print(\"Opção inválida! Tente novamente.\")\n",
        "\n",
        "menu()"
      ],
      "metadata": {
        "id": "-RZyLONr07e3"
      },
      "execution_count": null,
      "outputs": []
    }
  ]
}